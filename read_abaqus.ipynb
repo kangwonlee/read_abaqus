{
  "nbformat": 4,
  "nbformat_minor": 0,
  "metadata": {
    "colab": {
      "private_outputs": true,
      "provenance": [],
      "collapsed_sections": [],
      "mount_file_id": "https://github.com/kangwonlee/read_abaqus/blob/main/read_abaqus.ipynb",
      "authorship_tag": "ABX9TyMTwSQ933JbrE/m37WGVQc5",
      "include_colab_link": true
    },
    "kernelspec": {
      "name": "python3",
      "display_name": "Python 3"
    },
    "language_info": {
      "name": "python"
    }
  },
  "cells": [
    {
      "cell_type": "markdown",
      "metadata": {
        "id": "view-in-github",
        "colab_type": "text"
      },
      "source": [
        "<a href=\"https://colab.research.google.com/github/kangwonlee/read_abaqus/blob/main/read_abaqus.ipynb\" target=\"_parent\"><img src=\"https://colab.research.google.com/assets/colab-badge.svg\" alt=\"Open In Colab\"/></a>"
      ]
    },
    {
      "cell_type": "markdown",
      "source": [
        "* Abaqus 에서 `1111.obj` 라는 이름으로 파일을 받음\n",
        "* Google Drive 에 `abaqus` 라는 이름의 폴더를 만듦\n",
        "* `1111.obj` 파일을 해당 폴더에 보관\n",
        "* 왼쪽 파일 아이콘에서 \"드라이브 마운트\" 하여 Google Colab 에서 읽을 수 있도록 설정"
      ],
      "metadata": {
        "id": "s3V35IT0KFgC"
      }
    },
    {
      "cell_type": "code",
      "execution_count": null,
      "metadata": {
        "id": "i0m0YqLAFfdQ"
      },
      "outputs": [],
      "source": [
        "import os"
      ]
    },
    {
      "cell_type": "code",
      "source": [
        "path = os.path.join(\"drive\", \"MyDrive\", \"abaqus\")\n",
        "path"
      ],
      "metadata": {
        "id": "ViLU3IHFFs9M"
      },
      "execution_count": null,
      "outputs": []
    },
    {
      "cell_type": "code",
      "source": [
        "assert os.path.exists(path), \"Please mount the drive\""
      ],
      "metadata": {
        "id": "TuITmk_RF1Kx"
      },
      "execution_count": null,
      "outputs": []
    },
    {
      "cell_type": "code",
      "source": [
        "obj_fullpath = os.path.join(path, \"1111.obj\")\n",
        "assert os.path.exists(obj_fullpath), \"Please check the filename\""
      ],
      "metadata": {
        "id": "jcsEdahpF-Gx"
      },
      "execution_count": null,
      "outputs": []
    },
    {
      "cell_type": "code",
      "source": [
        "with open(obj_fullpath, 'rt') as fi:\n",
        "  lines = fi.readlines()"
      ],
      "metadata": {
        "id": "JXpJ0ia4GLAh"
      },
      "execution_count": null,
      "outputs": []
    },
    {
      "cell_type": "code",
      "source": [
        "lines[:10]"
      ],
      "metadata": {
        "id": "42qefJ1eGQ_5"
      },
      "execution_count": null,
      "outputs": []
    },
    {
      "cell_type": "markdown",
      "source": [
        "마지막 vertice 다음 행을 찾음"
      ],
      "metadata": {
        "id": "XAAWKJ2BGsdC"
      }
    },
    {
      "cell_type": "code",
      "source": [
        "i_v_stop = 2\n",
        "while 'v' == lines[i_v_stop][0]:\n",
        "  i_v_stop += 1\n",
        "print(i_v_stop)"
      ],
      "metadata": {
        "id": "HSBLvT4BGSoh"
      },
      "execution_count": null,
      "outputs": []
    },
    {
      "cell_type": "code",
      "source": [
        "lines[i_v_stop:(i_v_stop+10)]"
      ],
      "metadata": {
        "id": "7k_1t5KfGrGo"
      },
      "execution_count": null,
      "outputs": []
    },
    {
      "cell_type": "markdown",
      "source": [
        "마지막 body polygon 다음 행을 찾음"
      ],
      "metadata": {
        "id": "TLxKe7c9G68b"
      }
    },
    {
      "cell_type": "code",
      "source": [
        "i_f_stop = i_v_stop + 2\n",
        "while 'f' == lines[i_f_stop][0]:\n",
        "  i_f_stop += 1\n",
        "print(i_f_stop)"
      ],
      "metadata": {
        "id": "9GFDpRVeG68c"
      },
      "execution_count": null,
      "outputs": []
    },
    {
      "cell_type": "code",
      "source": [
        "lines[i_f_stop:(i_f_stop+10)]"
      ],
      "metadata": {
        "id": "7TnolKOkHD3R"
      },
      "execution_count": null,
      "outputs": []
    },
    {
      "cell_type": "markdown",
      "source": [
        "마지막 body line 다음 행을 찾음"
      ],
      "metadata": {
        "id": "Xn3k_b9CHUCK"
      }
    },
    {
      "cell_type": "code",
      "source": [
        "i_l_stop = i_f_stop + 2\n",
        "while 'l' == lines[i_l_stop][0]:\n",
        "  i_l_stop += 1\n",
        "print(i_l_stop)"
      ],
      "metadata": {
        "id": "GiIKGw2ZHUCL"
      },
      "execution_count": null,
      "outputs": []
    },
    {
      "cell_type": "code",
      "source": [
        "lines[i_l_stop:(i_l_stop+10)]"
      ],
      "metadata": {
        "id": "nLslmpoRHUCL"
      },
      "execution_count": null,
      "outputs": []
    },
    {
      "cell_type": "markdown",
      "source": [
        "* vertice 행을 좌표로 변환\n",
        "* `'v 999.997 29.9164 -69.8641\\n'`"
      ],
      "metadata": {
        "id": "iHDPf6RsIBUR"
      }
    },
    {
      "cell_type": "code",
      "source": [
        "lines[:10]"
      ],
      "metadata": {
        "id": "FGATrqHl1UvG"
      },
      "execution_count": null,
      "outputs": []
    },
    {
      "cell_type": "code",
      "source": [
        "%%time\n",
        "v_list = []\n",
        "for line in lines[2:i_v_stop]:\n",
        "  w = line.split()\n",
        "  v_list.append(\n",
        "      [float(w[1]), float(w[2]), float(w[3])],\n",
        "  )\n"
      ],
      "metadata": {
        "id": "o0S6dUvPHGiI"
      },
      "execution_count": null,
      "outputs": []
    },
    {
      "cell_type": "code",
      "source": [
        "v_list[:10]"
      ],
      "metadata": {
        "id": "0hVJtrJbnJpL"
      },
      "execution_count": null,
      "outputs": []
    },
    {
      "cell_type": "markdown",
      "source": [
        "number of vertices<br>점의 갯수"
      ],
      "metadata": {
        "id": "dXSUTNrqQkSA"
      }
    },
    {
      "cell_type": "code",
      "source": [
        "len(v_list)"
      ],
      "metadata": {
        "id": "FeW91UA1Pyrg"
      },
      "execution_count": null,
      "outputs": []
    },
    {
      "cell_type": "code",
      "source": [
        "import numpy as np"
      ],
      "metadata": {
        "id": "8q3Pjnw2I2Aa"
      },
      "execution_count": null,
      "outputs": []
    },
    {
      "cell_type": "code",
      "source": [
        "v = np.array(v_list)\n",
        "v[:10]"
      ],
      "metadata": {
        "id": "3sPpDW411OMO"
      },
      "execution_count": null,
      "outputs": []
    },
    {
      "cell_type": "markdown",
      "source": [
        "* vertice 를 그림으로 표시\n",
        "* https://matplotlib.org/stable/gallery/mplot3d/scatter3d.html"
      ],
      "metadata": {
        "id": "GyVJ3Wm7JJmh"
      }
    },
    {
      "cell_type": "code",
      "source": [
        "import matplotlib.pyplot as plt"
      ],
      "metadata": {
        "id": "ziwldDfkJQ7B"
      },
      "execution_count": null,
      "outputs": []
    },
    {
      "cell_type": "code",
      "source": [
        "fig = plt.figure()\n",
        "ax = fig.add_subplot(projection='3d')\n",
        "ax.scatter(v[:,0], v[:,1], v[:,2], marker='.')\n",
        "plt.show()"
      ],
      "metadata": {
        "id": "x5ff4oYwIzpA"
      },
      "execution_count": null,
      "outputs": []
    },
    {
      "cell_type": "code",
      "source": [],
      "metadata": {
        "id": "rBRjHlqEJlYQ"
      },
      "execution_count": null,
      "outputs": []
    }
  ]
}