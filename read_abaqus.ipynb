{
  "nbformat": 4,
  "nbformat_minor": 0,
  "metadata": {
    "colab": {
      "private_outputs": true,
      "provenance": [],
      "collapsed_sections": [],
      "mount_file_id": "https://github.com/kangwonlee/read_abaqus/blob/main/read_abaqus.ipynb",
      "authorship_tag": "ABX9TyPPDQL4AOLqxfBz7/DZPqv+",
      "include_colab_link": true
    },
    "kernelspec": {
      "name": "python3",
      "display_name": "Python 3"
    },
    "language_info": {
      "name": "python"
    }
  },
  "cells": [
    {
      "cell_type": "markdown",
      "metadata": {
        "id": "view-in-github",
        "colab_type": "text"
      },
      "source": [
        "<a href=\"https://colab.research.google.com/github/kangwonlee/read_abaqus/blob/main/read_abaqus.ipynb\" target=\"_parent\"><img src=\"https://colab.research.google.com/assets/colab-badge.svg\" alt=\"Open In Colab\"/></a>"
      ]
    },
    {
      "cell_type": "markdown",
      "source": [
        "# Reading Abaqus data<br>Abaqus 데이터 읽기"
      ],
      "metadata": {
        "id": "DvjAEWEMdGOV"
      }
    },
    {
      "cell_type": "markdown",
      "source": [
        "* Abaqus 에서 `1111.obj` 라는 이름으로 파일을 받음\n",
        "* Google Drive 에 `abaqus` 라는 이름의 폴더를 만듦\n",
        "* `1111.obj` 파일을 해당 폴더에 보관\n",
        "* 왼쪽 파일 아이콘에서 \"드라이브 마운트\" 하여 Google Colab 에서 Google Drive 를 읽을 수 있도록 설정"
      ],
      "metadata": {
        "id": "s3V35IT0KFgC"
      }
    },
    {
      "cell_type": "markdown",
      "source": [
        "## Locating the data file 자료 파일 위치 찾기"
      ],
      "metadata": {
        "id": "nP2lnSClb1pv"
      }
    },
    {
      "cell_type": "code",
      "execution_count": null,
      "metadata": {
        "id": "i0m0YqLAFfdQ"
      },
      "outputs": [],
      "source": [
        "import os"
      ]
    },
    {
      "cell_type": "markdown",
      "source": [
        "`abaqus/` 폴더를 읽을 수 있는지 확인"
      ],
      "metadata": {
        "id": "06y45O9C0he0"
      }
    },
    {
      "cell_type": "code",
      "source": [
        "path = os.path.join(\"drive\", \"MyDrive\", \"abaqus\")\n",
        "path"
      ],
      "metadata": {
        "id": "ViLU3IHFFs9M"
      },
      "execution_count": null,
      "outputs": []
    },
    {
      "cell_type": "code",
      "source": [
        "assert os.path.exists(path), \"Please mount the drive\""
      ],
      "metadata": {
        "id": "TuITmk_RF1Kx"
      },
      "execution_count": null,
      "outputs": []
    },
    {
      "cell_type": "markdown",
      "source": [
        "위 셀에서 오류가 발생하지 않으면 Google drive 가 mount 된 것임"
      ],
      "metadata": {
        "id": "lhaOuLsW1UCL"
      }
    },
    {
      "cell_type": "markdown",
      "source": [
        "`abaqus/` 폴더 아래 `.obj` 파일이 있는지 확인"
      ],
      "metadata": {
        "id": "_zQd1c250owz"
      }
    },
    {
      "cell_type": "code",
      "source": [
        "obj_fullpath = os.path.join(path, \"1111.obj\")\n",
        "assert os.path.exists(obj_fullpath), \"Please check the filename\""
      ],
      "metadata": {
        "id": "jcsEdahpF-Gx"
      },
      "execution_count": null,
      "outputs": []
    },
    {
      "cell_type": "markdown",
      "source": [
        "위 셀에서 오류가 발생하지 않으면 `.obj` 파일을 찾을 수 있었다는 의미"
      ],
      "metadata": {
        "id": "rk6mLXVY1sCa"
      }
    },
    {
      "cell_type": "markdown",
      "source": [
        "## Reading through the file 파일 읽어보기"
      ],
      "metadata": {
        "id": "DHvcXj7Nb-2b"
      }
    },
    {
      "cell_type": "markdown",
      "source": [
        "`.obj` 파일의 내용을 읽어서 `list` 로 저장"
      ],
      "metadata": {
        "id": "V6d7JPS60xUz"
      }
    },
    {
      "cell_type": "code",
      "source": [
        "with open(obj_fullpath, 'rt') as fi:\n",
        "  lines = fi.readlines()"
      ],
      "metadata": {
        "id": "JXpJ0ia4GLAh"
      },
      "execution_count": null,
      "outputs": []
    },
    {
      "cell_type": "markdown",
      "source": [
        "첫 10 줄 내용"
      ],
      "metadata": {
        "id": "xE1jw8EO2C5L"
      }
    },
    {
      "cell_type": "code",
      "source": [
        "lines[:10]"
      ],
      "metadata": {
        "id": "42qefJ1eGQ_5"
      },
      "execution_count": null,
      "outputs": []
    },
    {
      "cell_type": "markdown",
      "source": [
        "`v` 로 시작하는 줄은 vertice x, y, z 좌표로 보임"
      ],
      "metadata": {
        "id": "GsWM6AyJ2G2b"
      }
    },
    {
      "cell_type": "markdown",
      "source": [
        "마지막 vertice 다음 행을 찾음"
      ],
      "metadata": {
        "id": "XAAWKJ2BGsdC"
      }
    },
    {
      "cell_type": "code",
      "source": [
        "i_v_stop = 2\n",
        "while 'v' == lines[i_v_stop][0]:\n",
        "  i_v_stop += 1\n",
        "print(i_v_stop)"
      ],
      "metadata": {
        "id": "HSBLvT4BGSoh"
      },
      "execution_count": null,
      "outputs": []
    },
    {
      "cell_type": "markdown",
      "source": [
        "마지막 vertice 아래 10 줄의 내용"
      ],
      "metadata": {
        "id": "W2_cg9jM2aA6"
      }
    },
    {
      "cell_type": "code",
      "source": [
        "lines[i_v_stop:(i_v_stop+10)]"
      ],
      "metadata": {
        "id": "7k_1t5KfGrGo"
      },
      "execution_count": null,
      "outputs": []
    },
    {
      "cell_type": "markdown",
      "source": [
        "* 줄의 첫 글자가 `f` 로 시작하면 body polygon 으로 보임\n",
        "* 뒤의 숫자는 vertice 순서 번호로 보임\n",
        "* 첫번째 vertice 는 1번으로 보임"
      ],
      "metadata": {
        "id": "3bK5kP2L2hK6"
      }
    },
    {
      "cell_type": "markdown",
      "source": [
        "마지막 body polygon 다음 행을 찾음"
      ],
      "metadata": {
        "id": "TLxKe7c9G68b"
      }
    },
    {
      "cell_type": "code",
      "source": [
        "i_f_stop = i_v_stop + 2\n",
        "while 'f' == lines[i_f_stop][0]:\n",
        "  i_f_stop += 1\n",
        "print(i_f_stop)"
      ],
      "metadata": {
        "id": "9GFDpRVeG68c"
      },
      "execution_count": null,
      "outputs": []
    },
    {
      "cell_type": "markdown",
      "source": [
        "마지막 body polygon 이후 10줄의 내용"
      ],
      "metadata": {
        "id": "DB0aWCSF27Pa"
      }
    },
    {
      "cell_type": "code",
      "source": [
        "lines[i_f_stop:(i_f_stop+10)]"
      ],
      "metadata": {
        "id": "7TnolKOkHD3R"
      },
      "execution_count": null,
      "outputs": []
    },
    {
      "cell_type": "markdown",
      "source": [
        "Body lines 는 `l` 로 시작"
      ],
      "metadata": {
        "id": "u9E2-3RZ3EsK"
      }
    },
    {
      "cell_type": "markdown",
      "source": [
        "마지막 body line 다음 행을 찾음"
      ],
      "metadata": {
        "id": "Xn3k_b9CHUCK"
      }
    },
    {
      "cell_type": "code",
      "source": [
        "i_l_stop = i_f_stop + 2\n",
        "while 'l' == lines[i_l_stop][0]:\n",
        "  i_l_stop += 1\n",
        "print(i_l_stop)"
      ],
      "metadata": {
        "id": "GiIKGw2ZHUCL"
      },
      "execution_count": null,
      "outputs": []
    },
    {
      "cell_type": "markdown",
      "source": [
        "이후의 내용"
      ],
      "metadata": {
        "id": "g7C1TQIE3SCK"
      }
    },
    {
      "cell_type": "code",
      "source": [
        "lines[i_l_stop:(i_l_stop+10)]"
      ],
      "metadata": {
        "id": "nLslmpoRHUCL"
      },
      "execution_count": null,
      "outputs": []
    },
    {
      "cell_type": "markdown",
      "source": [
        "* 마지막 부분도 또 body lines\n",
        "* 왜 4개만 따로?"
      ],
      "metadata": {
        "id": "KLEG88Zk3UmS"
      }
    },
    {
      "cell_type": "markdown",
      "source": [
        "## Reading the data points 각 점 좌표 읽기"
      ],
      "metadata": {
        "id": "PM3-SJOccOkO"
      }
    },
    {
      "cell_type": "markdown",
      "source": [
        "* vertice 행을 좌표로 변환\n",
        "* `'v 999.997 29.9164 -69.8641\\n'`"
      ],
      "metadata": {
        "id": "iHDPf6RsIBUR"
      }
    },
    {
      "cell_type": "code",
      "source": [
        "vertice_lines = lines[2:i_v_stop]"
      ],
      "metadata": {
        "id": "-G5JvBBZoJ5j"
      },
      "execution_count": null,
      "outputs": []
    },
    {
      "cell_type": "code",
      "source": [
        "vertice_lines[:10]"
      ],
      "metadata": {
        "id": "FGATrqHl1UvG"
      },
      "execution_count": null,
      "outputs": []
    },
    {
      "cell_type": "code",
      "source": [
        "%%time\n",
        "v_list = []\n",
        "for line in vertice_lines:\n",
        "  w = line.split()\n",
        "  v_list.append(\n",
        "      [float(w[1]), float(w[2]), float(w[3])],\n",
        "  )\n"
      ],
      "metadata": {
        "id": "o0S6dUvPHGiI"
      },
      "execution_count": null,
      "outputs": []
    },
    {
      "cell_type": "code",
      "source": [
        "v_list[:10]"
      ],
      "metadata": {
        "id": "0hVJtrJbnJpL"
      },
      "execution_count": null,
      "outputs": []
    },
    {
      "cell_type": "markdown",
      "source": [
        "number of vertices<br>점의 갯수"
      ],
      "metadata": {
        "id": "dXSUTNrqQkSA"
      }
    },
    {
      "cell_type": "code",
      "source": [
        "len(v_list)"
      ],
      "metadata": {
        "id": "FeW91UA1Pyrg"
      },
      "execution_count": null,
      "outputs": []
    },
    {
      "cell_type": "markdown",
      "source": [
        "`list` 의 `list` 를 `numpy` array로 변환"
      ],
      "metadata": {
        "id": "lyUn8o794cGy"
      }
    },
    {
      "cell_type": "code",
      "source": [
        "import numpy as np"
      ],
      "metadata": {
        "id": "8q3Pjnw2I2Aa"
      },
      "execution_count": null,
      "outputs": []
    },
    {
      "cell_type": "code",
      "source": [
        "v = np.array(v_list)\n",
        "v[:10]"
      ],
      "metadata": {
        "id": "3sPpDW411OMO"
      },
      "execution_count": null,
      "outputs": []
    },
    {
      "cell_type": "markdown",
      "source": [
        "## Plotting the points 각 점을 그리기"
      ],
      "metadata": {
        "id": "Rl6pjSLzcyX9"
      }
    },
    {
      "cell_type": "markdown",
      "source": [
        "* vertice 를 그림으로 표시\n",
        "* https://matplotlib.org/stable/gallery/mplot3d/scatter3d.html"
      ],
      "metadata": {
        "id": "GyVJ3Wm7JJmh"
      }
    },
    {
      "cell_type": "code",
      "source": [
        "import matplotlib.pyplot as plt"
      ],
      "metadata": {
        "id": "ziwldDfkJQ7B"
      },
      "execution_count": null,
      "outputs": []
    },
    {
      "cell_type": "code",
      "source": [
        "fig = plt.figure()\n",
        "ax = fig.add_subplot(projection='3d')\n",
        "ax.scatter(v[:,0], v[:,1], v[:,2], marker='.')\n",
        "plt.show()"
      ],
      "metadata": {
        "id": "x5ff4oYwIzpA"
      },
      "execution_count": null,
      "outputs": []
    },
    {
      "cell_type": "markdown",
      "source": [
        "## Filtering polygon data lines 다각형 자료 행 고르기"
      ],
      "metadata": {
        "id": "lL0aPwJcdSgB"
      }
    },
    {
      "cell_type": "code",
      "source": [
        "poloygon_lines = []\n",
        "\n",
        "for line in lines:\n",
        "  if 'f' == line[0]:\n",
        "    poloygon_lines.append(line)"
      ],
      "metadata": {
        "id": "rBRjHlqEJlYQ"
      },
      "execution_count": null,
      "outputs": []
    },
    {
      "cell_type": "code",
      "source": [
        "poloygon_lines[:5]"
      ],
      "metadata": {
        "id": "f77i01gYeR6X"
      },
      "execution_count": null,
      "outputs": []
    },
    {
      "cell_type": "code",
      "source": [
        "poloygon_lines[-5:]"
      ],
      "metadata": {
        "id": "jtaiDZyzedp_"
      },
      "execution_count": null,
      "outputs": []
    },
    {
      "cell_type": "code",
      "source": [],
      "metadata": {
        "id": "5Os2eWxYefq8"
      },
      "execution_count": null,
      "outputs": []
    }
  ]
}